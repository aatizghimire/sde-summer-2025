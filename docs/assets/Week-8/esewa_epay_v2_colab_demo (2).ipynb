{
  "cells": [
    {
      "cell_type": "markdown",
      "metadata": {
        "id": "dulkZuENMYk2"
      },
      "source": [
        "# eSewa (ePay v2) Integration — Colab Demo\n",
        "\n",
        "This notebook shows a **working UAT demo** of eSewa ePay v2:\n",
        "- Launch a public callback URL via **ngrok**\n",
        "- Generate the **HMAC-SHA256** signature (`signature`, `signed_field_names`)\n",
        "- Post an auto-submitting form to **eSewa UAT** (hosted checkout)\n",
        "- Receive success/failure at your callback, then **verify** via status API\n",
        "\n",
        "**Note:** This demo uses eSewa's *UAT credentials* and endpoints.\n",
        "\n",
        "**Docs:** eSewa developer portal (signature & params) and test credentials.\n"
      ],
      "id": "dulkZuENMYk2"
    },
    {
      "cell_type": "code",
      "execution_count": 1,
      "metadata": {
        "id": "install-deps",
        "colab": {
          "base_uri": "https://localhost:8080/"
        },
        "outputId": "5d7daae7-bbc8-415b-dcc5-e68f52585aa7"
      },
      "outputs": [
        {
          "output_type": "stream",
          "name": "stdout",
          "text": [
            "Installed Flask, pyngrok, requests\n"
          ]
        }
      ],
      "source": [
        "!pip -q install flask pyngrok requests\n",
        "print('Installed Flask, pyngrok, requests')"
      ],
      "id": "install-deps"
    },
    {
      "cell_type": "markdown",
      "metadata": {
        "id": "xVZqdTAAMYlA"
      },
      "source": [
        "## 1) Configure UAT constants\n",
        "Replace `PRODUCT_CODE` and `SECRET_KEY` with your live values when moving to production."
      ],
      "id": "xVZqdTAAMYlA"
    },
    {
      "cell_type": "code",
      "execution_count": 2,
      "metadata": {
        "id": "config",
        "colab": {
          "base_uri": "https://localhost:8080/"
        },
        "outputId": "525df2b5-de99-455d-c9d7-95c11fa61e99"
      },
      "outputs": [
        {
          "output_type": "stream",
          "name": "stdout",
          "text": [
            "PRODUCT_CODE= EPAYTEST\n",
            "FORM_URL    = https://rc-epay.esewa.com.np/api/epay/main/v2/form\n",
            "STATUS_API  = https://uat.esewa.com.np/api/epay/transaction/status/\n"
          ]
        }
      ],
      "source": [
        "import os, base64, hmac, hashlib, json, time\n",
        "\n",
        "# --- UAT test values from eSewa docs ---\n",
        "PRODUCT_CODE = os.environ.get('ESEWA_PRODUCT_CODE', 'EPAYTEST')\n",
        "SECRET_KEY   = os.environ.get('ESEWA_SECRET', '8gBm/:&EnhH.1/q')\n",
        "\n",
        "# ePay v2 UAT form endpoint\n",
        "ESEWA_FORM_URL = os.environ.get('ESEWA_FORM_URL', 'https://rc-epay.esewa.com.np/api/epay/main/v2/form')\n",
        "\n",
        "# ePay v2 status check endpoint (UAT)\n",
        "STATUS_API    = os.environ.get('ESEWA_STATUS_URL', 'https://uat.esewa.com.np/api/epay/transaction/status/')\n",
        "\n",
        "print('PRODUCT_CODE=', PRODUCT_CODE)\n",
        "print('FORM_URL    =', ESEWA_FORM_URL)\n",
        "print('STATUS_API  =', STATUS_API)"
      ],
      "id": "config"
    },
    {
      "cell_type": "markdown",
      "metadata": {
        "id": "jrgUzJ-QMYlB"
      },
      "source": [
        "## 2) Signature helper (HMAC-SHA256 → Base64)\n",
        "Per eSewa v2: `signed_field_names` must **include and be ordered as** `total_amount,transaction_uuid,product_code`. We then compute the HMAC using the concatenated string of `key=value` pairs joined by commas, and Base64-encode the digest."
      ],
      "id": "jrgUzJ-QMYlB"
    },
    {
      "cell_type": "code",
      "execution_count": 3,
      "metadata": {
        "id": "signature",
        "colab": {
          "base_uri": "https://localhost:8080/"
        },
        "outputId": "9a09e452-fa08-4e9d-e3f9-cfba0d973a8c"
      },
      "outputs": [
        {
          "output_type": "stream",
          "name": "stdout",
          "text": [
            "5DZywcrTKD0gia/rsSMcrRHmJl+4Tbol6S+lWgdJ94E=\n"
          ]
        }
      ],
      "source": [
        "def esewa_signature(total_amount: str, transaction_uuid: str, product_code: str, secret_key: str) -> str:\n",
        "    # Build the canonical string exactly in this order\n",
        "    data = f\"total_amount={total_amount},transaction_uuid={transaction_uuid},product_code={product_code}\"\n",
        "    digest = hmac.new(secret_key.encode(), data.encode(), hashlib.sha256).digest()\n",
        "    return base64.b64encode(digest).decode()\n",
        "\n",
        "# quick test\n",
        "print(esewa_signature('100', '11-201-13', PRODUCT_CODE, SECRET_KEY))"
      ],
      "id": "signature"
    },
    {
      "cell_type": "markdown",
      "metadata": {
        "id": "rtv1jXY2MYlC"
      },
      "source": [
        "## 3) Start Flask with ngrok (public callbacks)\n",
        "We expose `/success` and `/failure` to receive eSewa redirects. The success handler:\n",
        "- Parses `data` (Base64 JSON from eSewa)\n",
        "- Recomputes signature locally for integrity\n",
        "- Calls **status API** to confirm transaction status\n",
        "\n",
        "Then we create a `/pay` route that renders an auto-submitting form to eSewa using test values."
      ],
      "id": "rtv1jXY2MYlC"
    },
    {
      "cell_type": "code",
      "execution_count": 4,
      "metadata": {
        "id": "server",
        "colab": {
          "base_uri": "https://localhost:8080/",
          "height": 156
        },
        "outputId": "83f40c3b-d48a-4d44-868e-2f1923c26091"
      },
      "outputs": [
        {
          "output_type": "stream",
          "name": "stdout",
          "text": [
            " * Serving Flask app '__main__'\n",
            " * Debug mode: off\n"
          ]
        },
        {
          "output_type": "stream",
          "name": "stderr",
          "text": [
            "INFO:werkzeug:\u001b[31m\u001b[1mWARNING: This is a development server. Do not use it in a production deployment. Use a production WSGI server instead.\u001b[0m\n",
            " * Running on all addresses (0.0.0.0)\n",
            " * Running on http://127.0.0.1:5000\n",
            " * Running on http://172.28.0.12:5000\n",
            "INFO:werkzeug:\u001b[33mPress CTRL+C to quit\u001b[0m\n"
          ]
        },
        {
          "output_type": "execute_result",
          "data": {
            "text/plain": [
              "'https://0333bdaa1bad.ngrok-free.app'"
            ],
            "application/vnd.google.colaboratory.intrinsic+json": {
              "type": "string"
            }
          },
          "metadata": {},
          "execution_count": 4
        }
      ],
      "source": [
        "import threading\n",
        "from flask import Flask, request, Response\n",
        "from pyngrok import ngrok, conf\n",
        "import requests\n",
        "import uuid # Import the uuid library\n",
        "from google.colab import userdata # Import userdata\n",
        "\n",
        "app = Flask(__name__)\n",
        "\n",
        "# Configure ngrok with the authtoken from Colab secrets\n",
        "# Make sure you have added NGROK_AUTH_TOKEN as a secret in the left sidebar\n",
        "try:\n",
        "    ngrok_auth_token = userdata.get('NGROK_AUTH_TOKEN')\n",
        "    if ngrok_auth_token:\n",
        "        conf.get_default().auth_token = ngrok_auth_token\n",
        "    else:\n",
        "        print(\"NGROK_AUTH_TOKEN not found in Colab secrets. ngrok might not work correctly.\")\n",
        "except Exception as e:\n",
        "    print(f\"Error retrieving NGROK_AUTH_TOKEN from Colab secrets: {e}\")\n",
        "\n",
        "\n",
        "public_url = ngrok.connect(5000, bind_tls=True).public_url\n",
        "\n",
        "@app.get('/')\n",
        "def index():\n",
        "    return f\"<h3>eSewa v2 Demo</h3><p>Public URL: {public_url}</p><p>Go to <a href='{public_url}/pay' target='_blank'>/pay</a> to initiate a test payment.</p>\"\n",
        "\n",
        "@app.get('/pay')\n",
        "def pay():\n",
        "    # Inputs\n",
        "    total_amount = request.args.get('total_amount')  # allow override\n",
        "    amount = request.args.get('amount')              # base amount\n",
        "    tax_amount = request.args.get('tax_amount', '0')\n",
        "    psc = request.args.get('product_service_charge', '0')\n",
        "    pdc = request.args.get('product_delivery_charge', '0')\n",
        "    txn_uuid = request.args.get('txn', str(uuid.uuid4()))\n",
        "\n",
        "    # Default: if only amount given, compute total_amount\n",
        "    if amount is None and total_amount is None:\n",
        "        amount = '100'  # demo default\n",
        "    if total_amount is None:\n",
        "        total_amount = str(round(float(amount) + float(tax_amount) + float(psc) + float(pdc), 2))\n",
        "\n",
        "    signed_field_names = 'total_amount,transaction_uuid,product_code'\n",
        "    sig = esewa_signature(total_amount, txn_uuid, PRODUCT_CODE, SECRET_KEY)\n",
        "\n",
        "    form = f\"\"\"\n",
        "    <h4>Auto-submitting to eSewa UAT…</h4>\n",
        "    <form id='f' action='{ESEWA_FORM_URL}' method='POST'>\n",
        "      <!-- v2 commercial fields -->\n",
        "      <input type='hidden' name='amount' value='{amount}' />\n",
        "      <input type='hidden' name='tax_amount' value='{tax_amount}' />\n",
        "      <input type='hidden' name='product_service_charge' value='{psc}' />\n",
        "      <input type='hidden' name='product_delivery_charge' value='{pdc}' />\n",
        "      <input type='hidden' name='total_amount' value='{total_amount}' />\n",
        "\n",
        "      <!-- v2 required identity/signature fields -->\n",
        "      <input type='hidden' name='transaction_uuid' value='{txn_uuid}' />\n",
        "      <input type='hidden' name='product_code' value='{PRODUCT_CODE}' />\n",
        "      <input type='hidden' name='success_url' value='{public_url}/success' />\n",
        "      <input type='hidden' name='failure_url' value='{public_url}/failure' />\n",
        "      <input type='hidden' name='signed_field_names' value='{signed_field_names}' />\n",
        "      <input type='hidden' name='signature' value='{sig}' />\n",
        "\n",
        "      <noscript><button type='submit'>Pay with eSewa (UAT)</button></noscript>\n",
        "    </form>\n",
        "    <script>document.getElementById('f').submit();</script>\n",
        "    <p><b>Txn UUID:</b> {txn_uuid}</p>\n",
        "    <p><b>Amount breakdown:</b> amount={amount}, tax={tax_amount}, psc={psc}, pdc={pdc}, total={total_amount}</p>\n",
        "    \"\"\"\n",
        "    return form\n",
        "\n",
        "\n",
        "def decode_esewa_data(b64: str):\n",
        "    try:\n",
        "        raw = base64.b64decode(b64 + \"==\")  # tolerate missing padding\n",
        "        obj = json.loads(raw.decode())\n",
        "        return obj\n",
        "    except Exception as e:\n",
        "        return {\"error\": str(e)}\n",
        "\n",
        "@app.get('/success')\n",
        "def success():\n",
        "    # eSewa v2 sends a 'data' param (Base64 JSON) containing fields such as\n",
        "    # total_amount, transaction_uuid, product_code, reference_id, status, signed_field_names, signature\n",
        "    b64 = request.args.get('data') or request.values.get('data')\n",
        "    if not b64:\n",
        "        return Response(\"Missing data\", status=400)\n",
        "    payload = decode_esewa_data(b64)\n",
        "    if 'error' in payload:\n",
        "        return Response(f\"Decode error: {payload['error']}\", status=400)\n",
        "\n",
        "    # Integrity check: recompute signature\n",
        "    try:\n",
        "        ta = str(payload.get('total_amount'))\n",
        "        tu = payload.get('transaction_uuid')\n",
        "        pc = payload.get('product_code')\n",
        "        srv_sig = payload.get('signature')\n",
        "        calc_sig = esewa_signature(ta, tu, pc, SECRET_KEY)\n",
        "        ok_sig = (srv_sig == calc_sig)\n",
        "    except Exception as e:\n",
        "        ok_sig = False\n",
        "\n",
        "    # Status verification call\n",
        "    params = {\n",
        "        'product_code': pc,\n",
        "        'total_amount': ta,\n",
        "        'transaction_uuid': tu\n",
        "    }\n",
        "    try:\n",
        "        r = requests.get(STATUS_API, params=params, timeout=15)\n",
        "        status_json = r.json()\n",
        "    except Exception as e:\n",
        "        status_json = {\"error\": str(e)}\n",
        "\n",
        "    return {\n",
        "        \"received\": payload,\n",
        "        \"signature_match\": ok_sig,\n",
        "        \"status_api_query\": params,\n",
        "        \"status_api_response\": status_json\n",
        "    }\n",
        "\n",
        "@app.get('/failure')\n",
        "def failure():\n",
        "    return {\"message\": \"Payment failed\", \"query\": dict(request.args)}\n",
        "\n",
        "def run():\n",
        "    app.run(host='0.0.0.0', port=5000)\n",
        "\n",
        "thread = threading.Thread(target=run, daemon=True)\n",
        "thread.start()\n",
        "time.sleep(2)\n",
        "public_url"
      ],
      "id": "server"
    },
    {
      "cell_type": "markdown",
      "metadata": {
        "id": "HQtOX6U3MYlE"
      },
      "source": [
        "### Next steps\n",
        "1. Click the link printed above (public URL), then open **`/pay`** to initiate a UAT payment.\n",
        "2. Log in with **test eSewa accounts** (see the credentials in the eSewa docs).\n",
        "3. After confirming payment, you’ll be redirected to **`/success`** here and the notebook will display:\n",
        "   - Decoded payload (`data`)\n",
        "   - Local signature match (`True/False`)\n",
        "   - Response from **status API** (final confirmation)\n",
        "\n",
        "**Tip:** You can pass `amount` and `txn` query params to `/pay`, e.g. `/pay?amount=150&txn=demo-123`."
      ],
      "id": "HQtOX6U3MYlE"
    }
  ],
  "metadata": {
    "kernelspec": {
      "display_name": "Python 3",
      "language": "python",
      "name": "python3"
    },
    "language_info": {
      "name": "python",
      "version": "3.x"
    },
    "colab": {
      "provenance": []
    }
  },
  "nbformat": 4,
  "nbformat_minor": 5
}