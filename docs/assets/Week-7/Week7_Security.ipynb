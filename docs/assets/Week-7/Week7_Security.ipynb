{
  "nbformat": 4,
  "nbformat_minor": 0,
  "metadata": {
    "colab": {
      "provenance": []
    },
    "kernelspec": {
      "name": "python3",
      "display_name": "Python 3"
    },
    "language_info": {
      "name": "python"
    }
  },
  "cells": [
    {
      "cell_type": "markdown",
      "source": [
        "#Workshop Title: \"Hands-On Cybersecurity\"\n",
        "###Workshop Objectives\n",
        "-Learn to secure systems using real tools and best practices.\n",
        "\n",
        "-Implement authentication and encryption mechanisms.\n",
        "\n",
        "-Explore passwordless authentication (Passkeys & TOTP).\n",
        "\n",
        "-Configure and test firewalls and VPNs for secure networking.\n",
        "\n"
      ],
      "metadata": {
        "id": "mUn9srR7XHYP"
      }
    },
    {
      "cell_type": "markdown",
      "source": [
        "### Task 1: Secure Password Storage Demo\n",
        "🎯 Objective\n",
        "Learn how to:\n",
        "\n",
        "Hash passwords securely with salt\n",
        "\n",
        "Store hash and salt\n",
        "\n",
        "Validate passwords without storing the original password\n",
        "\n"
      ],
      "metadata": {
        "id": "sKQBgxrgXU_Z"
      }
    },
    {
      "cell_type": "markdown",
      "source": [
        "**1.Environment Setup**\n",
        "Install Python (version ≥ 3.6 recommended) and the bcrypt library.\n"
      ],
      "metadata": {
        "id": "9iKCaqJAXft_"
      }
    },
    {
      "cell_type": "code",
      "execution_count": null,
      "metadata": {
        "colab": {
          "base_uri": "https://localhost:8080/"
        },
        "id": "7dI9quETXGj1",
        "outputId": "bd5fc28d-4f06-4e7d-da71-67ac79a1c96c"
      },
      "outputs": [
        {
          "output_type": "stream",
          "name": "stdout",
          "text": [
            "Requirement already satisfied: bcrypt in /usr/local/lib/python3.11/dist-packages (4.3.0)\n"
          ]
        }
      ],
      "source": [
        "!pip install bcrypt\n"
      ]
    },
    {
      "cell_type": "markdown",
      "source": [
        "**2. Import Libraries**"
      ],
      "metadata": {
        "id": "X4oY2pMbXnG3"
      }
    },
    {
      "cell_type": "code",
      "source": [
        "import bcrypt\n"
      ],
      "metadata": {
        "id": "rdgxZ3GEXUtH"
      },
      "execution_count": null,
      "outputs": []
    },
    {
      "cell_type": "markdown",
      "source": [
        "**3. Password Hashing Process**\n",
        "✅ Input a Password"
      ],
      "metadata": {
        "id": "-LGC8ACUXsyV"
      }
    },
    {
      "cell_type": "code",
      "source": [
        "password = input(\"Enter your password: \").encode('utf-8')"
      ],
      "metadata": {
        "id": "x5fSwSceXsPP"
      },
      "execution_count": null,
      "outputs": []
    },
    {
      "cell_type": "markdown",
      "source": [
        "**🔑 Generate a Salt**\n"
      ],
      "metadata": {
        "id": "CGiW19gyX1dE"
      }
    },
    {
      "cell_type": "code",
      "source": [
        "salt = bcrypt.gensalt()\n",
        "print(\"Generated Salt:\", salt)"
      ],
      "metadata": {
        "id": "4N_K7L97Xzco"
      },
      "execution_count": null,
      "outputs": []
    },
    {
      "cell_type": "markdown",
      "source": [
        "🔐 **Hash the Password + Salt**"
      ],
      "metadata": {
        "id": "8TYipMpyX-zI"
      }
    },
    {
      "cell_type": "code",
      "source": [
        "hashed_password = bcrypt.hashpw(password, salt)\n",
        "print(\"Stored Hash:\", hashed_password)\n"
      ],
      "metadata": {
        "id": "NDNPjtIhX8sp"
      },
      "execution_count": null,
      "outputs": []
    },
    {
      "cell_type": "markdown",
      "source": [
        "**4. Simulate Storage (e.g., a database)**\n"
      ],
      "metadata": {
        "id": "PTw72u8wYMgO"
      }
    },
    {
      "cell_type": "code",
      "source": [
        "# Simulating a user record\n",
        "user_db = {\n",
        "    \"username\": \"alice\",\n",
        "    \"salt\": salt,\n",
        "    \"hashed_password\": hashed_password\n",
        "}\n"
      ],
      "metadata": {
        "id": "0Lrv5pfTYKkR"
      },
      "execution_count": null,
      "outputs": []
    },
    {
      "cell_type": "markdown",
      "source": [
        "**5. Password Validation Logic**\n"
      ],
      "metadata": {
        "id": "QagUBVkKYSr8"
      }
    },
    {
      "cell_type": "code",
      "source": [
        "def validate_password(stored_hash, input_password, salt):\n",
        "    # Re-hash the input with stored salt\n",
        "    input_hash = bcrypt.hashpw(input_password.encode('utf-8'), salt)\n",
        "    return input_hash == stored_hash\n"
      ],
      "metadata": {
        "id": "zhhEHYdoYRbG"
      },
      "execution_count": null,
      "outputs": []
    },
    {
      "cell_type": "markdown",
      "source": [
        "**🔍 Test Validatio**n\n"
      ],
      "metadata": {
        "id": "hKrtaLjkYZpE"
      }
    },
    {
      "cell_type": "code",
      "source": [
        "user_input = input(\"Enter your password again to validate: \")\n",
        "is_valid = validate_password(user_db['hashed_password'], user_input, user_db['salt'])\n",
        "\n",
        "if is_valid:\n",
        "    print(\"✅ Password is correct!\")\n",
        "else:\n",
        "    print(\"❌ Password is incorrect!\")\n"
      ],
      "metadata": {
        "id": "iODjbYE1YYbg"
      },
      "execution_count": null,
      "outputs": []
    },
    {
      "cell_type": "code",
      "source": [],
      "metadata": {
        "id": "FdjKh_JlYfnq"
      },
      "execution_count": null,
      "outputs": []
    },
    {
      "cell_type": "markdown",
      "source": [
        "🔒 **Security Notes**\n",
        "\n",
        "Never store plaintext passwords.\n",
        "\n",
        "Use strong hashing algorithms like bcrypt, scrypt, or argon2.\n",
        "\n",
        "Always use a unique salt per user.\n",
        "\n",
        "Store the salt and hash safely in your database."
      ],
      "metadata": {
        "id": "qxNDVZDgYjRm"
      }
    },
    {
      "cell_type": "code",
      "source": [],
      "metadata": {
        "id": "u8TtfDhPYwhW"
      },
      "execution_count": null,
      "outputs": []
    },
    {
      "cell_type": "markdown",
      "source": [
        "### Password Hashing with scrypt and argon2"
      ],
      "metadata": {
        "id": "sUPzxMdcYw9C"
      }
    },
    {
      "cell_type": "markdown",
      "source": [
        "🔧**1. Prerequisites**\n",
        "Install required libraries:"
      ],
      "metadata": {
        "id": "Q7d3N0QSY42U"
      }
    },
    {
      "cell_type": "code",
      "source": [
        "!pip install argon2-cffi"
      ],
      "metadata": {
        "id": "SEZQLPPgY9gy"
      },
      "execution_count": null,
      "outputs": []
    },
    {
      "cell_type": "markdown",
      "source": [
        "No extra package is needed for scrypt, as it is available in the Python standard library (≥ 3.6).\n",
        "\n"
      ],
      "metadata": {
        "id": "nwp9NEC4ZBBz"
      }
    },
    {
      "cell_type": "markdown",
      "source": [
        "### **Why scrypt?**\n",
        "Resistant to GPU/ASIC cracking\n",
        "\n",
        "Built into Python\n",
        "\n",
        "Good for applications needing backward compatibility"
      ],
      "metadata": {
        "id": "x2qNmKgzZIrT"
      }
    },
    {
      "cell_type": "markdown",
      "source": [
        "🔐 **1. Hash a password**\n"
      ],
      "metadata": {
        "id": "FvV5DL3vZP6y"
      }
    },
    {
      "cell_type": "code",
      "source": [
        "import os\n",
        "import hashlib\n",
        "\n",
        "# Input password\n",
        "password = input(\"Enter your password: \").encode()"
      ],
      "metadata": {
        "id": "fhxMygZyY_JY"
      },
      "execution_count": null,
      "outputs": []
    },
    {
      "cell_type": "markdown",
      "source": [
        "**🔑 Generate a Salt**\n"
      ],
      "metadata": {
        "id": "kgSRW_8PZb1i"
      }
    },
    {
      "cell_type": "code",
      "source": [
        "# Generate salt\n",
        "salt = os.urandom(16)"
      ],
      "metadata": {
        "id": "6OZqpaxhZdDj"
      },
      "execution_count": null,
      "outputs": []
    },
    {
      "cell_type": "markdown",
      "source": [
        "🔐 **Hash the Password + Salt**"
      ],
      "metadata": {
        "id": "41GqUdzaZZ3s"
      }
    },
    {
      "cell_type": "code",
      "source": [
        "# Hash using scrypt\n",
        "hashed = hashlib.scrypt(\n",
        "    password,\n",
        "    salt=salt,\n",
        "    n=16384,\n",
        "    r=8,\n",
        "    p=1,\n",
        "    dklen=64\n",
        ")\n",
        "\n",
        "print(\"Salt:\", salt.hex())\n",
        "print(\"Hash:\", hashed.hex())"
      ],
      "metadata": {
        "id": "GVpzj3zhZiSR"
      },
      "execution_count": null,
      "outputs": []
    },
    {
      "cell_type": "markdown",
      "source": [
        "\n",
        "\n",
        "\n",
        "**Password Validation Logic**\n"
      ],
      "metadata": {
        "id": "WKhM_omZZtPe"
      }
    },
    {
      "cell_type": "code",
      "source": [
        "def validate_scrypt(input_password, stored_hash, salt):\n",
        "    new_hash = hashlib.scrypt(\n",
        "        input_password.encode(),\n",
        "        salt=salt,\n",
        "        n=16384,\n",
        "        r=8,\n",
        "        p=1,\n",
        "        dklen=64\n",
        "    )\n",
        "    return new_hash == stored_hash"
      ],
      "metadata": {
        "id": "lh8M5byZZy6a"
      },
      "execution_count": null,
      "outputs": []
    },
    {
      "cell_type": "markdown",
      "source": [
        "**🔍 Test Validatio**n\n"
      ],
      "metadata": {
        "id": "jB7Psw-IaBda"
      }
    },
    {
      "cell_type": "code",
      "source": [
        "# Validation test\n",
        "user_input = input(\"Enter your password again: \")\n",
        "is_valid = validate_scrypt(user_input, hashed, salt)\n",
        "\n",
        "print(\"✅ Valid Password!\" if is_valid else \"❌ Invalid Password\")"
      ],
      "metadata": {
        "id": "PRbTRXn8Z9Mq"
      },
      "execution_count": null,
      "outputs": []
    },
    {
      "cell_type": "code",
      "source": [],
      "metadata": {
        "id": "VJPFsTMhcQPD"
      },
      "execution_count": null,
      "outputs": []
    },
    {
      "cell_type": "markdown",
      "source": [
        "### Task 2: Simulating TOTP with Google Authenticator\n"
      ],
      "metadata": {
        "id": "BWDMtN5jcQZ2"
      }
    },
    {
      "cell_type": "markdown",
      "source": [
        "**Prerequisites**\n",
        "Install required libraries:"
      ],
      "metadata": {
        "id": "FLeumhTQccVm"
      }
    },
    {
      "cell_type": "code",
      "source": [
        "!pip install pyotp qrcode[pil]"
      ],
      "metadata": {
        "id": "JkEEq7zOcfCP"
      },
      "execution_count": null,
      "outputs": []
    },
    {
      "cell_type": "markdown",
      "source": [
        "####Step 1: Generate a TOTP Secret\n"
      ],
      "metadata": {
        "id": "qo7k8YLydGT0"
      }
    },
    {
      "cell_type": "code",
      "source": [
        "import pyotp\n",
        "\n",
        "# Generate a base32 secret\n",
        "secret = pyotp.random_base32()\n",
        "print(f\"🔐 Your TOTP Secret: {secret}\")\n"
      ],
      "metadata": {
        "id": "iDgVC3REdGjP"
      },
      "execution_count": null,
      "outputs": []
    },
    {
      "cell_type": "markdown",
      "source": [
        "#### Step 2: Generate a Provisioning URI for QR Code"
      ],
      "metadata": {
        "id": "tf1vjEgrdD97"
      }
    },
    {
      "cell_type": "code",
      "source": [
        "# Replace these values with your actual service and user\n",
        "totp = pyotp.TOTP(secret)\n",
        "provisioning_uri = totp.provisioning_uri(name=\"aatiz.ghimire@heraldcollege.edu.np\", issuer_name=\"SDE-CyberSecurity101\")\n",
        "print(\"🧾 Provisioning URI:\", provisioning_uri)"
      ],
      "metadata": {
        "id": "xESivb__cgvT"
      },
      "execution_count": null,
      "outputs": []
    },
    {
      "cell_type": "markdown",
      "source": [
        "#### Step 3: Create QR Code for Google Authenticator"
      ],
      "metadata": {
        "id": "rmXr1d7jdVO5"
      }
    },
    {
      "cell_type": "code",
      "source": [
        "import qrcode\n",
        "from PIL import Image\n",
        "\n",
        "# Generate and display QR code\n",
        "img = qrcode.make(provisioning_uri)\n",
        "img.save(\"totp_qr.png\")\n",
        "\n",
        "# Display the QR code image\n",
        "Image.open(\"totp_qr.png\")\n"
      ],
      "metadata": {
        "id": "W3jt7vepdWkD"
      },
      "execution_count": null,
      "outputs": []
    },
    {
      "cell_type": "markdown",
      "source": [
        "**👉 Scan this QR code with your Google Authenticator app. You will begin to see 6-digit TOTP codes that update every 30 seconds.**"
      ],
      "metadata": {
        "id": "596C7hMuda2j"
      }
    },
    {
      "cell_type": "markdown",
      "source": [
        "####Step 4: Verify the TOTP Code"
      ],
      "metadata": {
        "id": "yEzATe_Gde1R"
      }
    },
    {
      "cell_type": "code",
      "source": [
        "user_input = input(\"Enter the 6-digit code from Google Authenticator: \")\n",
        "if totp.verify(user_input):\n",
        "    print(\"✅ TOTP Verified Successfully!\")\n",
        "else:\n",
        "    print(\"❌ Invalid TOTP!\")\n"
      ],
      "metadata": {
        "id": "XZwDHeM6dY5X"
      },
      "execution_count": null,
      "outputs": []
    },
    {
      "cell_type": "markdown",
      "source": [
        "#### 📌 Optional Extension"
      ],
      "metadata": {
        "id": "rRELjm3Zd9d_"
      }
    },
    {
      "cell_type": "code",
      "source": [
        "# Print current OTP (server simulation)\n",
        "print(\"⏳ Current OTP from server side:\", totp.now())\n"
      ],
      "metadata": {
        "id": "HH6siwIFdwKT"
      },
      "execution_count": null,
      "outputs": []
    },
    {
      "cell_type": "markdown",
      "source": [
        "### Task 3: Encoding and Decoding Images using Base64"
      ],
      "metadata": {
        "id": "ALFTyWTOeNc-"
      }
    },
    {
      "cell_type": "markdown",
      "source": [
        "**1. Import Libraries**"
      ],
      "metadata": {
        "id": "UGQqu7FefF5r"
      }
    },
    {
      "cell_type": "code",
      "source": [
        "import base64\n",
        "from google.colab import files\n",
        "from IPython.display import Image as ColabImage"
      ],
      "metadata": {
        "id": "N56-Jf2EeCRM"
      },
      "execution_count": null,
      "outputs": []
    },
    {
      "cell_type": "markdown",
      "source": [
        "**2.Upload and Encode an Image**"
      ],
      "metadata": {
        "id": "pYMvoNtcfNj6"
      }
    },
    {
      "cell_type": "code",
      "source": [
        "uploaded = files.upload()\n",
        "filename = list(uploaded.keys())[0]\n",
        "\n",
        "with open(filename, \"rb\") as image_file:\n",
        "    encoded = base64.b64encode(image_file.read())\n",
        "    print(\"Encoded String (truncated):\", encoded[:100])"
      ],
      "metadata": {
        "id": "h4miJTipfJRg"
      },
      "execution_count": null,
      "outputs": []
    },
    {
      "cell_type": "markdown",
      "source": [
        "**3. Decode and Save the Image**"
      ],
      "metadata": {
        "id": "-KjKasdYfUta"
      }
    },
    {
      "cell_type": "code",
      "source": [
        "with open(\"decoded_\" + filename, \"wb\") as f:\n",
        "    f.write(base64.b64decode(encoded))\n",
        "\n",
        "ColabImage(\"decoded_\" + filename)"
      ],
      "metadata": {
        "id": "2ZuE9L7GfR8z"
      },
      "execution_count": null,
      "outputs": []
    },
    {
      "cell_type": "markdown",
      "source": [
        "**Verify that the decoded image matches the uploaded one visually.**"
      ],
      "metadata": {
        "id": "5a4gyuiVfcRi"
      }
    },
    {
      "cell_type": "markdown",
      "source": [],
      "metadata": {
        "id": "52KF98infefV"
      }
    },
    {
      "cell_type": "markdown",
      "source": [
        "### Task 4: Tokenizing Sensitive Fields in JSON\n",
        "\n"
      ],
      "metadata": {
        "id": "bIe0xfzmfoz-"
      }
    },
    {
      "cell_type": "markdown",
      "source": [
        "#### Step 1: Define user data"
      ],
      "metadata": {
        "id": "fyOZ09fNgOEy"
      }
    },
    {
      "cell_type": "code",
      "source": [
        "import json, uuid\n",
        "\n",
        "user_data = {\n",
        "    \"name\": \"aatiz\",\n",
        "    \"email\": \"aatiz.ghimire@heraldcollege.edu.np\",\n",
        "    \"credit_card\": \"4111-1111-1111-1111\",\n",
        "    \"ssn\": \"1234\",\n",
        "    \"expiration_date\": \"12/24\"\n",
        "}\n"
      ],
      "metadata": {
        "id": "RbBOTLHTgSXM"
      },
      "execution_count": null,
      "outputs": []
    },
    {
      "cell_type": "markdown",
      "source": [
        "#### Step 2: Tokenize JSON"
      ],
      "metadata": {
        "id": "FehS17LDgqyQ"
      }
    },
    {
      "cell_type": "code",
      "source": [
        "# Token vault\n",
        "token_map = {}\n",
        "\n",
        "def tokenize_value(value):\n",
        "    token = str(uuid.uuid4())\n",
        "    token_map[token] = value\n",
        "    return token\n"
      ],
      "metadata": {
        "id": "YCW9DOcegls0"
      },
      "execution_count": null,
      "outputs": []
    },
    {
      "cell_type": "code",
      "source": [
        "# Tokenize sensitive fields\n",
        "for key in [\"credit_card\", \"ssn\"]:\n",
        "    user_data[key] = tokenize_value(user_data[key])\n",
        "\n",
        "print(\"Tokenized JSON:\", json.dumps(user_data, indent=2))\n",
        "print(\"Vault:\", json.dumps(token_map, indent=2))"
      ],
      "metadata": {
        "id": "L7mxU7Fpgtmz"
      },
      "execution_count": null,
      "outputs": []
    },
    {
      "cell_type": "markdown",
      "source": [
        "#### Step3: De-Tokenize JSON"
      ],
      "metadata": {
        "id": "X66SSxkPhJHi"
      }
    },
    {
      "cell_type": "code",
      "source": [
        "# Reconstruct original data\n",
        "for token, value in token_map.items():\n",
        "    for key, val in user_data.items():\n",
        "        if val == token:\n",
        "            user_data[key] = value\n",
        "\n",
        "print(\"Restored JSON:\", json.dumps(user_data, indent=2))"
      ],
      "metadata": {
        "id": "MFIHZbpBg4x9"
      },
      "execution_count": null,
      "outputs": []
    },
    {
      "cell_type": "markdown",
      "source": [
        "## End of Workshop\n",
        "\n",
        "Congratulations! You have implemented secure password storage, TOTP-based MFA, safe file encoding, and tokenized JSON data using Python tools.\n",
        "\n"
      ],
      "metadata": {
        "id": "8K4d1wC3hPsS"
      }
    }
  ]
}